{
 "cells": [
  {
   "cell_type": "code",
   "execution_count": 3,
   "id": "d3cf79bf-b6b8-4dfd-a145-ed5ad1f73dd2",
   "metadata": {},
   "outputs": [
    {
     "name": "stdout",
     "output_type": "stream",
     "text": [
      "Collecting pandas\n",
      "  Downloading pandas-2.2.3-cp311-cp311-manylinux_2_17_x86_64.manylinux2014_x86_64.whl.metadata (89 kB)\n",
      "\u001b[2K     \u001b[90m━━━━━━━━━━━━━━━━━━━━━━━━━━━━━━━━━━━━━━━━\u001b[0m \u001b[32m89.9/89.9 kB\u001b[0m \u001b[31m9.5 MB/s\u001b[0m eta \u001b[36m0:00:00\u001b[0m\n",
      "\u001b[?25hCollecting numpy\n",
      "  Downloading numpy-2.2.1-cp311-cp311-manylinux_2_17_x86_64.manylinux2014_x86_64.whl.metadata (62 kB)\n",
      "\u001b[2K     \u001b[90m━━━━━━━━━━━━━━━━━━━━━━━━━━━━━━━━━━━━━━━━\u001b[0m \u001b[32m62.0/62.0 kB\u001b[0m \u001b[31m6.7 MB/s\u001b[0m eta \u001b[36m0:00:00\u001b[0m\n",
      "\u001b[?25hRequirement already satisfied: python-dateutil>=2.8.2 in /opt/conda/lib/python3.11/site-packages (from pandas) (2.9.0)\n",
      "Requirement already satisfied: pytz>=2020.1 in /opt/conda/lib/python3.11/site-packages (from pandas) (2024.1)\n",
      "Collecting tzdata>=2022.7 (from pandas)\n",
      "  Downloading tzdata-2024.2-py2.py3-none-any.whl.metadata (1.4 kB)\n",
      "Requirement already satisfied: six>=1.5 in /opt/conda/lib/python3.11/site-packages (from python-dateutil>=2.8.2->pandas) (1.16.0)\n",
      "Downloading pandas-2.2.3-cp311-cp311-manylinux_2_17_x86_64.manylinux2014_x86_64.whl (13.1 MB)\n",
      "\u001b[2K   \u001b[90m━━━━━━━━━━━━━━━━━━━━━━━━━━━━━━━━━━━━━━━━\u001b[0m \u001b[32m13.1/13.1 MB\u001b[0m \u001b[31m87.9 MB/s\u001b[0m eta \u001b[36m0:00:00\u001b[0m:00:01\u001b[0m00:01\u001b[0m\n",
      "\u001b[?25hDownloading numpy-2.2.1-cp311-cp311-manylinux_2_17_x86_64.manylinux2014_x86_64.whl (16.4 MB)\n",
      "\u001b[2K   \u001b[90m━━━━━━━━━━━━━━━━━━━━━━━━━━━━━━━━━━━━━━━━\u001b[0m \u001b[32m16.4/16.4 MB\u001b[0m \u001b[31m77.8 MB/s\u001b[0m eta \u001b[36m0:00:00\u001b[0m:00:01\u001b[0m00:01\u001b[0m\n",
      "\u001b[?25hDownloading tzdata-2024.2-py2.py3-none-any.whl (346 kB)\n",
      "\u001b[2K   \u001b[90m━━━━━━━━━━━━━━━━━━━━━━━━━━━━━━━━━━━━━━━━\u001b[0m \u001b[32m346.6/346.6 kB\u001b[0m \u001b[31m35.0 MB/s\u001b[0m eta \u001b[36m0:00:00\u001b[0m\n",
      "\u001b[?25hInstalling collected packages: tzdata, numpy, pandas\n",
      "Successfully installed numpy-2.2.1 pandas-2.2.3 tzdata-2024.2\n"
     ]
    }
   ],
   "source": [
    "!pip install pandas numpy\n"
   ]
  },
  {
   "cell_type": "code",
   "execution_count": 4,
   "id": "1c90506b-ce71-4bb4-a75a-eb530220e4ba",
   "metadata": {},
   "outputs": [
    {
     "name": "stdout",
     "output_type": "stream",
     "text": [
      "Pandas y Numpy están instalados correctamente.\n"
     ]
    }
   ],
   "source": [
    "import pandas as pd\n",
    "import numpy as np\n",
    "print(\"Pandas y Numpy están instalados correctamente.\")"
   ]
  },
  {
   "cell_type": "code",
   "execution_count": 5,
   "id": "b3c62094-8e40-4dbc-8c2a-db7d5143290b",
   "metadata": {},
   "outputs": [
    {
     "name": "stdout",
     "output_type": "stream",
     "text": [
      "Primeras 10 filas del conjunto de datos:\n",
      "   FlightNumber        Date BoosterVersion  PayloadMass Orbit    LaunchSite  \\\n",
      "0             1  2010-06-04       Falcon 9  6104.959412   LEO  CCAFS SLC 40   \n",
      "1             2  2012-05-22       Falcon 9   525.000000   LEO  CCAFS SLC 40   \n",
      "2             3  2013-03-01       Falcon 9   677.000000   ISS  CCAFS SLC 40   \n",
      "3             4  2013-09-29       Falcon 9   500.000000    PO   VAFB SLC 4E   \n",
      "4             5  2013-12-03       Falcon 9  3170.000000   GTO  CCAFS SLC 40   \n",
      "5             6  2014-01-06       Falcon 9  3325.000000   GTO  CCAFS SLC 40   \n",
      "6             7  2014-04-18       Falcon 9  2296.000000   ISS  CCAFS SLC 40   \n",
      "7             8  2014-07-14       Falcon 9  1316.000000   LEO  CCAFS SLC 40   \n",
      "8             9  2014-08-05       Falcon 9  4535.000000   GTO  CCAFS SLC 40   \n",
      "9            10  2014-09-07       Falcon 9  4428.000000   GTO  CCAFS SLC 40   \n",
      "\n",
      "       Outcome  Flights  GridFins  Reused   Legs LandingPad  Block  \\\n",
      "0    None None        1     False   False  False        NaN    1.0   \n",
      "1    None None        1     False   False  False        NaN    1.0   \n",
      "2    None None        1     False   False  False        NaN    1.0   \n",
      "3  False Ocean        1     False   False  False        NaN    1.0   \n",
      "4    None None        1     False   False  False        NaN    1.0   \n",
      "5    None None        1     False   False  False        NaN    1.0   \n",
      "6   True Ocean        1     False   False   True        NaN    1.0   \n",
      "7   True Ocean        1     False   False   True        NaN    1.0   \n",
      "8    None None        1     False   False  False        NaN    1.0   \n",
      "9    None None        1     False   False  False        NaN    1.0   \n",
      "\n",
      "   ReusedCount Serial   Longitude   Latitude  \n",
      "0            0  B0003  -80.577366  28.561857  \n",
      "1            0  B0005  -80.577366  28.561857  \n",
      "2            0  B0007  -80.577366  28.561857  \n",
      "3            0  B1003 -120.610829  34.632093  \n",
      "4            0  B1004  -80.577366  28.561857  \n",
      "5            0  B1005  -80.577366  28.561857  \n",
      "6            0  B1006  -80.577366  28.561857  \n",
      "7            0  B1007  -80.577366  28.561857  \n",
      "8            0  B1008  -80.577366  28.561857  \n",
      "9            0  B1011  -80.577366  28.561857  \n",
      "\n",
      "TAREA 1: Número de lanzamientos por sitio:\n",
      "LaunchSite\n",
      "CCAFS SLC 40    55\n",
      "KSC LC 39A      22\n",
      "VAFB SLC 4E     13\n",
      "Name: count, dtype: int64\n",
      "\n",
      "TAREA 2: Número y frecuencia de cada órbita:\n",
      "Orbit\n",
      "GTO      27\n",
      "ISS      21\n",
      "VLEO     14\n",
      "PO        9\n",
      "LEO       7\n",
      "SSO       5\n",
      "MEO       3\n",
      "HEO       1\n",
      "ES-L1     1\n",
      "SO        1\n",
      "GEO       1\n",
      "Name: count, dtype: int64\n",
      "\n",
      "TAREA 3: Resultados de las misiones:\n",
      "Outcome\n",
      "True ASDS      41\n",
      "None None      19\n",
      "True RTLS      14\n",
      "False ASDS      6\n",
      "True Ocean      5\n",
      "False Ocean     2\n",
      "None ASDS       2\n",
      "False RTLS      1\n",
      "Name: count, dtype: int64\n",
      "\n",
      "TAREA 4: Creando la columna de clasificación de resultados (Class):\n",
      "       Outcome  Class\n",
      "0    None None      0\n",
      "1    None None      0\n",
      "2    None None      0\n",
      "3  False Ocean      0\n",
      "4    None None      0\n",
      "\n",
      "Tasa de éxito de los lanzamientos: 66.67%\n",
      "\n",
      "Archivo modificado exportado como 'dataset_part_2.csv'.\n"
     ]
    }
   ],
   "source": [
    "# Importar librerías necesarias\n",
    "import pandas as pd\n",
    "import numpy as np\n",
    "\n",
    "# Cargar el conjunto de datos desde el enlace proporcionado\n",
    "url = \"https://cf-courses-data.s3.us.cloud-object-storage.appdomain.cloud/IBM-DS0321EN-SkillsNetwork/datasets/dataset_part_1.csv\"\n",
    "df = pd.read_csv(url)\n",
    "\n",
    "# Mostrar las primeras filas del DataFrame\n",
    "print(\"Primeras 10 filas del conjunto de datos:\")\n",
    "print(df.head(10))\n",
    "\n",
    "# TAREA 1: Calcular el número de lanzamientos en cada sitio\n",
    "print(\"\\nTAREA 1: Número de lanzamientos por sitio:\")\n",
    "launches_per_site = df['LaunchSite'].value_counts()\n",
    "print(launches_per_site)\n",
    "\n",
    "# TAREA 2: Calcular el número y frecuencia de cada órbita\n",
    "print(\"\\nTAREA 2: Número y frecuencia de cada órbita:\")\n",
    "orbit_counts = df['Orbit'].value_counts()\n",
    "print(orbit_counts)\n",
    "\n",
    "# TAREA 3: Calcular los resultados de misión\n",
    "print(\"\\nTAREA 3: Resultados de las misiones:\")\n",
    "landing_outcomes = df['Outcome'].value_counts()\n",
    "print(landing_outcomes)\n",
    "\n",
    "# Identificar los malos resultados\n",
    "bad_outcomes = {'False Ocean', 'False RTLS', 'False ASDS', 'None ASDS', 'None None'}\n",
    "\n",
    "# TAREA 4: Crear la etiqueta de resultado de aterrizaje\n",
    "print(\"\\nTAREA 4: Creando la columna de clasificación de resultados (Class):\")\n",
    "df['Class'] = df['Outcome'].apply(lambda x: 0 if x in bad_outcomes else 1)\n",
    "print(df[['Outcome', 'Class']].head())\n",
    "\n",
    "# Calcular la tasa de éxito\n",
    "success_rate = df[\"Class\"].mean()\n",
    "print(f\"\\nTasa de éxito de los lanzamientos: {success_rate:.2%}\")\n",
    "\n",
    "# Exportar el conjunto de datos modificado a un archivo CSV\n",
    "output_file = \"dataset_part_2.csv\"\n",
    "df.to_csv(output_file, index=False)\n",
    "print(f\"\\nArchivo modificado exportado como '{output_file}'.\")\n"
   ]
  },
  {
   "cell_type": "code",
   "execution_count": 6,
   "id": "5ac287c2-3082-4542-9bb6-a04f7978d858",
   "metadata": {},
   "outputs": [
    {
     "name": "stdout",
     "output_type": "stream",
     "text": [
      "Número de aterrizajes fallidos por completo: 30\n"
     ]
    }
   ],
   "source": [
    "# Definir los resultados de aterrizaje fallidos\n",
    "bad_outcomes = {'False Ocean', 'False RTLS', 'False ASDS', 'None ASDS', 'None None'}\n",
    "\n",
    "# Filtrar los aterrizajes fallidos\n",
    "failed_landings = df[df['Outcome'].isin(bad_outcomes)]\n",
    "\n",
    "# Contar el número de aterrizajes fallidos\n",
    "num_failed_landings = failed_landings.shape[0]\n",
    "\n",
    "print(f\"Número de aterrizajes fallidos por completo: {num_failed_landings}\")"
   ]
  },
  {
   "cell_type": "code",
   "execution_count": null,
   "id": "247977d4-b28f-4cde-9507-062cd9038dbe",
   "metadata": {},
   "outputs": [],
   "source": []
  }
 ],
 "metadata": {
  "kernelspec": {
   "display_name": "Python 3 (ipykernel)",
   "language": "python",
   "name": "python3"
  },
  "language_info": {
   "codemirror_mode": {
    "name": "ipython",
    "version": 3
   },
   "file_extension": ".py",
   "mimetype": "text/x-python",
   "name": "python",
   "nbconvert_exporter": "python",
   "pygments_lexer": "ipython3",
   "version": "3.11.9"
  }
 },
 "nbformat": 4,
 "nbformat_minor": 5
}
